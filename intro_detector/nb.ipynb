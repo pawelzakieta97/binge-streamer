{
 "cells": [
  {
   "metadata": {
    "ExecuteTime": {
     "end_time": "2024-07-14T21:26:15.416812Z",
     "start_time": "2024-07-14T21:26:15.120901Z"
    }
   },
   "cell_type": "code",
   "source": [
    "import cv2\n",
    "import plotly.express as px\n",
    "import numpy as np\n",
    "import pandas as pd\n",
    "\n",
    "def read_frames(path: str, max_frames: int = 5000, resize=(100,100)):\n",
    "    stream = cv2.VideoCapture(path)\n",
    "    frames = [cv2.resize(stream.read()[1].astype(float)/255, resize) for i in range(max_frames)]\n",
    "    return np.stack(frames)\n",
    "\n"
   ],
   "id": "27d13bd7f6347771",
   "outputs": [],
   "execution_count": 1
  },
  {
   "metadata": {
    "ExecuteTime": {
     "end_time": "2024-07-14T21:26:16.089253Z",
     "start_time": "2024-07-14T21:26:16.085907Z"
    }
   },
   "cell_type": "code",
   "source": [
    "def get_key_frames(frames, threshold=0.2):\n",
    "    diffs = frames[1:, :, :, :] - frames[:-1, :, :, :]\n",
    "    delta = np.abs(diffs).mean(axis=(1,2,3))\n",
    "    frames_indexes = np.where(delta>threshold)[0] + 1\n",
    "    return frames[frames_indexes, :, :, :], frames_indexes"
   ],
   "id": "e145a422fa42ee2",
   "outputs": [],
   "execution_count": 2
  },
  {
   "metadata": {
    "ExecuteTime": {
     "end_time": "2024-07-14T21:26:17.211203Z",
     "start_time": "2024-07-14T21:26:17.207603Z"
    }
   },
   "cell_type": "code",
   "source": [
    "import hashlib\n",
    "\n",
    "def hash_image(image, res=8):\n",
    "    image = image.mean(axis=-1)\n",
    "    image = cv2.resize(image, dsize=(res, res), interpolation=cv2.INTER_AREA)\n",
    "    image = image > image.mean()\n",
    "    return hashlib.md5(image).hexdigest()\n",
    "    "
   ],
   "id": "f19b7a1fdd95dd0c",
   "outputs": [],
   "execution_count": 3
  },
  {
   "metadata": {
    "ExecuteTime": {
     "end_time": "2024-07-14T21:29:10.061663Z",
     "start_time": "2024-07-14T21:26:18.435432Z"
    }
   },
   "cell_type": "code",
   "source": [
    "paths = ['../static/The Office/season 4/The Office (US) (2005) - S04E01-E02 - Fun Run (1080p BluRay x265 Silence).mkv',\n",
    "         '../static/The Office/season 4/The Office (US) (2005) - S04E03-E04 - Dunder Mifflin Infinity (1080p BluRay x265 Silence).mkv']\n",
    "frames = [read_frames(path) for path in paths]"
   ],
   "id": "7baae2406087b72a",
   "outputs": [],
   "execution_count": 4
  },
  {
   "metadata": {},
   "cell_type": "code",
   "source": [
    "class IntroDetector:\n",
    "    def __init__(self, hash_options: dict=None):\n",
    "        self.frame_hashes = {}\n",
    "        if hash_options is None:\n",
    "            hash_options = {}\n",
    "        self.hash_options = hash_options\n",
    "        self.keyframes = {}\n",
    "        \n",
    "    def update(self, frames, name: str):\n",
    "        keyframes, frame_indexes = get_key_frames(frames)\n",
    "        self.keyframes[name] = []\n",
    "        for kf_index, (kf, ts) in enumerate(zip(keyframes, frame_indexes)):\n",
    "            h = hash_image(kf, **self.hash_options)\n",
    "            if h not in self.frame_hashes:\n",
    "                self.frame_hashes[h] = []\n",
    "            self.frame_hashes[h].append((name, kf_index))\n",
    "            self.keyframes[name].append({'ts': ts, 'kf': kf})\n",
    "            \n",
    "    def detect(self, threshold=0.2, morph=2):\n",
    "        shot_repeats_for_intro = max(2, int(len(self.keyframes) * threshold))\n",
    "        for frame_hash, occurrences in self.frame_hashes.items():\n",
    "            for name, kf_index in occurrences:\n",
    "                self.keyframes[name][kf_index]['count'] = len(occurrences)\n",
    "        result = {}\n",
    "        for name, keyframes in self.keyframes.items():\n",
    "            mask = np.array([kf_dict['count']>=shot_repeats_for_intro for kf_dict in keyframes])\n",
    "            if morph > 0:\n",
    "                mask = erode(dilate(mask, morph), morph)\n",
    "            \n",
    "            data = self.keyframes[name]\n",
    "            for d, m in zip(data, mask):\n",
    "                d['intro'] = m\n",
    "            # TODO: dont use pandas, for some reason slow af\n",
    "            result[name] = pd.DataFrame(data).drop(columns=['kf'])\n",
    "            \n",
    "        \n",
    "        return result\n",
    "            \n",
    "            "
   ],
   "id": "38f39b6d601d4c9a",
   "outputs": [],
   "execution_count": 11
  },
  {
   "metadata": {
    "ExecuteTime": {
     "end_time": "2024-07-14T21:31:39.311920Z",
     "start_time": "2024-07-14T21:31:38.506482Z"
    }
   },
   "cell_type": "code",
   "source": [
    "idet = IntroDetector()\n",
    "idet.update(frames[0], '1-2')\n",
    "idet.update(frames[1], '3-4')"
   ],
   "id": "a600e5d29cc9fcf4",
   "outputs": [],
   "execution_count": 12
  },
  {
   "metadata": {
    "jupyter": {
     "is_executing": true
    }
   },
   "cell_type": "code",
   "source": "res = idet.detect()",
   "id": "578526fa8de71376",
   "outputs": [],
   "execution_count": null
  },
  {
   "metadata": {
    "ExecuteTime": {
     "end_time": "2024-07-14T21:29:35.174723Z",
     "start_time": "2024-07-14T21:29:35.169984Z"
    }
   },
   "cell_type": "code",
   "source": [
    "def dilate(a: np.array, size: int = 1):\n",
    "    kernel_size = 2 * size + 1\n",
    "    ii = np.arange(a.shape[0]) + (np.arange(kernel_size) - size)[:, None]\n",
    "    ii[ii<0] = 0\n",
    "    ii[ii>=a.shape[0]] = a.shape[0] - 1\n",
    "    return a[ii].any(axis=0)\n",
    "\n",
    "def erode(a: np.array, size: int = 1):\n",
    "    kernel_size = 2 * size + 1\n",
    "    ii = np.arange(a.shape[0]) + (np.arange(kernel_size) - size)[:, None]\n",
    "    ii[ii<0] = 0\n",
    "    ii[ii>=a.shape[0]] = a.shape[0] - 1\n",
    "    return a[ii].all(axis=0)"
   ],
   "id": "d5b3f6b2e0e7a44d",
   "outputs": [],
   "execution_count": 8
  },
  {
   "metadata": {
    "ExecuteTime": {
     "end_time": "2024-07-14T21:29:50.723202Z",
     "start_time": "2024-07-14T21:29:50.718470Z"
    }
   },
   "cell_type": "code",
   "source": "res['1-2'].columns",
   "id": "9ba1e4daabfe9507",
   "outputs": [
    {
     "data": {
      "text/plain": [
       "Index(['ts', 'kf', 'count', 'intro'], dtype='object')"
      ]
     },
     "execution_count": 10,
     "metadata": {},
     "output_type": "execute_result"
    }
   ],
   "execution_count": 10
  },
  {
   "metadata": {},
   "cell_type": "code",
   "outputs": [],
   "execution_count": null,
   "source": "",
   "id": "f0c00a955fd034f0"
  }
 ],
 "metadata": {
  "kernelspec": {
   "display_name": "Python 3",
   "language": "python",
   "name": "python3"
  },
  "language_info": {
   "codemirror_mode": {
    "name": "ipython",
    "version": 2
   },
   "file_extension": ".py",
   "mimetype": "text/x-python",
   "name": "python",
   "nbconvert_exporter": "python",
   "pygments_lexer": "ipython2",
   "version": "2.7.6"
  }
 },
 "nbformat": 4,
 "nbformat_minor": 5
}
