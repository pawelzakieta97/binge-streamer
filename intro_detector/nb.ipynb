{
 "cells": [
  {
   "metadata": {
    "ExecuteTime": {
     "end_time": "2024-07-31T10:34:50.410754Z",
     "start_time": "2024-07-31T10:34:48.672712Z"
    }
   },
   "cell_type": "code",
   "source": [
    "import os\n",
    "import cv2\n",
    "\n",
    "video_dir = '../static/The Office/season 4'\n",
    "paths = [os.path.join(video_dir, video_file) for video_file in os.listdir(video_dir) if video_file.endswith('.mkv')]\n",
    "\n",
    "stream = cv2.VideoCapture(paths[0], apiPreference=cv2.CAP_FFMPEG)\n",
    "fps = stream.get(cv2.CAP_PROP_FPS)\n",
    "max_frames = 100\n",
    "from time import time\n",
    "\n",
    "s = time()\n",
    "frames = [cv2.resize(stream.read()[1].astype(float)/255, (100,100)) for i in range(max_frames)]\n",
    "print(time() - s)\n",
    "print(max_frames/fps)\n"
   ],
   "id": "f0c00a955fd034f0",
   "outputs": [
    {
     "name": "stdout",
     "output_type": "stream",
     "text": [
      "1.7298648357391357\n",
      "4.170833333333333\n"
     ]
    }
   ],
   "execution_count": 6
  },
  {
   "metadata": {},
   "cell_type": "code",
   "outputs": [],
   "execution_count": null,
   "source": "",
   "id": "9989cf6f15230508"
  }
 ],
 "metadata": {
  "kernelspec": {
   "display_name": "Python 3",
   "language": "python",
   "name": "python3"
  },
  "language_info": {
   "codemirror_mode": {
    "name": "ipython",
    "version": 2
   },
   "file_extension": ".py",
   "mimetype": "text/x-python",
   "name": "python",
   "nbconvert_exporter": "python",
   "pygments_lexer": "ipython2",
   "version": "2.7.6"
  }
 },
 "nbformat": 4,
 "nbformat_minor": 5
}
